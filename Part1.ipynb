{
 "cells": [
  {
   "cell_type": "code",
   "execution_count": 1,
   "metadata": {},
   "outputs": [],
   "source": [
    "import math"
   ]
  },
  {
   "cell_type": "code",
   "execution_count": 2,
   "metadata": {},
   "outputs": [],
   "source": [
    "def pi_len(num):\n",
    "    x=math.pi\n",
    "    print(\"Value of pi till given number {a} is {x:0.{precision}f}\".format(a=num,x=x,precision=num))"
   ]
  },
  {
   "cell_type": "code",
   "execution_count": 22,
   "metadata": {},
   "outputs": [],
   "source": [
    "def e_len(num):\n",
    "    e_value=math.e\n",
    "    print(\"The value of e till given number {num} is {e_value: 1.{num}f}\".format(num=num,e_value=e_value))"
   ]
  },
  {
   "cell_type": "raw",
   "metadata": {},
   "source": [
    "Fibonacci series-1,1,2,3,5,8,13,21,34,55,89"
   ]
  },
  {
   "cell_type": "code",
   "execution_count": 26,
   "metadata": {},
   "outputs": [
    {
     "ename": "SyntaxError",
     "evalue": "invalid syntax (<ipython-input-26-248f0832e635>, line 9)",
     "output_type": "error",
     "traceback": [
      "\u001b[0;36m  File \u001b[0;32m\"<ipython-input-26-248f0832e635>\"\u001b[0;36m, line \u001b[0;32m9\u001b[0m\n\u001b[0;31m    print(series,end=\"\")\u001b[0m\n\u001b[0m                    ^\u001b[0m\n\u001b[0;31mSyntaxError\u001b[0m\u001b[0;31m:\u001b[0m invalid syntax\n"
     ]
    }
   ],
   "source": [
    "def fib_series(num):\n",
    "    a=0\n",
    "    b=1\n",
    "    series=0\n",
    "    for x in range(num):\n",
    "        series=a+b\n",
    "        a=b\n",
    "        b=series\n",
    "        print(series)"
   ]
  },
  {
   "cell_type": "code",
   "execution_count": null,
   "metadata": {},
   "outputs": [],
   "source": [
    "def prime_factors(num):\n",
    "    all_factors=[]\n",
    "    prime_factors=[]\n",
    "    counter=0\n",
    "    for x in xrange(2,int(num/2)+1):\n",
    "        #print(x)\n",
    "        if num%x==0:\n",
    "            all_factors.append(x)\n",
    "    for number in all_factors:\n",
    "        #print(counter)\n",
    "        for x in xrange(2,number+1):\n",
    "            #print(x)\n",
    "            if number%x==0:\n",
    "                #print(\"IFFFFF\")\n",
    "                counter=counter+1\n",
    "                #print(counter)\n",
    "                #print(number)\n",
    "        if counter==1:\n",
    "                #print(\"Yessss\",number)\n",
    "                prime_factors.append(number)\n",
    "        counter=0    \n",
    "    print(\"All Factors\",all_factors)\n",
    "    print(\"Prime Factors\",prime_factors)     "
   ]
  },
  {
   "cell_type": "code",
   "execution_count": null,
   "metadata": {},
   "outputs": [],
   "source": [
    "def prime_num():\n",
    "    prime_numbers=[]\n",
    "    x=3\n",
    "    counter=0\n",
    "    print(\"Hit Ctrl-C for program to stop \")\n",
    "    print(\"2 is a prime number\")\n",
    "    while True:\n",
    "        for a in xrange(2,x+1):\n",
    "            if x%a==0:\n",
    "                counter=counter+1\n",
    "        if counter==1:\n",
    "            print(\"%s is a prime number\"%x)\n",
    "            prime_numbers.append(x)\n",
    "        counter=0\n",
    "        x=x+1\n",
    "        if cv2.waitKey(1)==13 & cv2.waitKey(1):\n",
    "            break\n",
    "####using try and except keyboard interrupt method is also useful but the used method is preferable\n",
    "####also keyboard library can also be imported, and keboard.is_pressed(\"key_name\") can also be used, but it requires root permission"
   ]
  }
 ],
 "metadata": {
  "kernelspec": {
   "display_name": "Python 2",
   "language": "python",
   "name": "python2"
  },
  "language_info": {
   "codemirror_mode": {
    "name": "ipython",
    "version": 2
   },
   "file_extension": ".py",
   "mimetype": "text/x-python",
   "name": "python",
   "nbconvert_exporter": "python",
   "pygments_lexer": "ipython2",
   "version": "2.7.17"
  }
 },
 "nbformat": 4,
 "nbformat_minor": 2
}
